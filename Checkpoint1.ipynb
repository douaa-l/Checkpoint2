{
 "cells": [
  {
   "cell_type": "code",
   "execution_count": 1,
   "id": "b6f1ebe4",
   "metadata": {},
   "outputs": [
    {
     "name": "stdout",
     "output_type": "stream",
     "text": [
      "Enter the minimum bound :2\n",
      "Enter the maximum bound :8\n",
      " Sum =  35\n"
     ]
    }
   ],
   "source": [
    "#Create an algorithm to find the sum of consecutive integers from 1 to n.\n",
    "def sumFun ():\n",
    "    sum=0\n",
    "    minimum = int (input(\"Enter the minimum bound :\"))\n",
    "    maximum= int (input(\"Enter the maximum bound :\"))\n",
    "    for j in range (minimum, maximum+1 ):\n",
    "        sum = sum + j\n",
    "    print(\" Sum = \", sum)\n",
    "sumFun()"
   ]
  },
  {
   "cell_type": "code",
   "execution_count": 2,
   "id": "ff914820",
   "metadata": {},
   "outputs": [
    {
     "name": "stdout",
     "output_type": "stream",
     "text": [
      "Enter n numbers of elements:15\n",
      "Enter element of the list:\n"
     ]
    },
    {
     "ename": "ValueError",
     "evalue": "invalid literal for int() with base 10: ''",
     "output_type": "error",
     "traceback": [
      "\u001b[1;31m---------------------------------------------------------------------------\u001b[0m",
      "\u001b[1;31mValueError\u001b[0m                                Traceback (most recent call last)",
      "\u001b[1;32m~\\AppData\\Local\\Temp/ipykernel_3680/398398736.py\u001b[0m in \u001b[0;36m<module>\u001b[1;34m\u001b[0m\n\u001b[0;32m     17\u001b[0m \u001b[1;33m\u001b[0m\u001b[0m\n\u001b[0;32m     18\u001b[0m \u001b[1;31m# to find the maximum value when there are eight numbers, such as 17, 92, 18, 33, 58, 7\u001b[0m\u001b[1;33m\u001b[0m\u001b[1;33m\u001b[0m\u001b[0m\n\u001b[1;32m---> 19\u001b[1;33m \u001b[0mmaximum\u001b[0m\u001b[1;33m=\u001b[0m \u001b[0mMaxFun\u001b[0m \u001b[1;33m(\u001b[0m\u001b[1;33m)\u001b[0m\u001b[1;33m\u001b[0m\u001b[1;33m\u001b[0m\u001b[0m\n\u001b[0m",
      "\u001b[1;32m~\\AppData\\Local\\Temp/ipykernel_3680/398398736.py\u001b[0m in \u001b[0;36mMaxFun\u001b[1;34m()\u001b[0m\n\u001b[0;32m      6\u001b[0m     \u001b[1;31m# Remplir la liste des elements\u001b[0m\u001b[1;33m\u001b[0m\u001b[1;33m\u001b[0m\u001b[0m\n\u001b[0;32m      7\u001b[0m     \u001b[1;32mfor\u001b[0m \u001b[0mi\u001b[0m \u001b[1;32min\u001b[0m \u001b[0mrange\u001b[0m\u001b[1;33m(\u001b[0m\u001b[1;36m0\u001b[0m\u001b[1;33m,\u001b[0m \u001b[0mn\u001b[0m\u001b[1;33m)\u001b[0m\u001b[1;33m:\u001b[0m\u001b[1;33m\u001b[0m\u001b[1;33m\u001b[0m\u001b[0m\n\u001b[1;32m----> 8\u001b[1;33m         \u001b[0melement\u001b[0m\u001b[1;33m=\u001b[0m \u001b[0mint\u001b[0m \u001b[1;33m(\u001b[0m\u001b[0minput\u001b[0m\u001b[1;33m(\u001b[0m\u001b[1;34m\"Enter element of the list:\"\u001b[0m\u001b[1;33m)\u001b[0m\u001b[1;33m)\u001b[0m\u001b[1;33m\u001b[0m\u001b[1;33m\u001b[0m\u001b[0m\n\u001b[0m\u001b[0;32m      9\u001b[0m         \u001b[0mlist1\u001b[0m\u001b[1;33m.\u001b[0m\u001b[0minsert\u001b[0m\u001b[1;33m(\u001b[0m\u001b[0mi\u001b[0m\u001b[1;33m,\u001b[0m \u001b[0melement\u001b[0m\u001b[1;33m)\u001b[0m\u001b[1;33m\u001b[0m\u001b[1;33m\u001b[0m\u001b[0m\n\u001b[0;32m     10\u001b[0m     \u001b[1;31m# Recherche du max dans la liste\u001b[0m\u001b[1;33m\u001b[0m\u001b[1;33m\u001b[0m\u001b[0m\n",
      "\u001b[1;31mValueError\u001b[0m: invalid literal for int() with base 10: ''"
     ]
    }
   ],
   "source": [
    "# Write an algorithm to find the largest number among n given numbers.\n",
    "def MaxFun ():\n",
    "    \n",
    "    n = int (input(\"Enter n numbers of elements:\"))\n",
    "    list1=[ ]\n",
    "    # Remplir la liste des elements\n",
    "    for i in range(0, n):\n",
    "        element= int (input(\"Enter element of the list:\"))\n",
    "        list1.insert(i, element)\n",
    "    # Recherche du max dans la liste\n",
    "\n",
    "    maximum=list1[0]\n",
    "    for i in range (1, len(list1)):\n",
    "        if(maximum < list1[i]):\n",
    "            maximum = list1[i]\n",
    "    print(\"Largest element in the list :\", maximum)\n",
    "\n",
    "# to find the maximum value when there are eight numbers, such as 17, 92, 18, 33, 58, 7\n",
    "maximum= MaxFun ()"
   ]
  },
  {
   "cell_type": "code",
   "execution_count": null,
   "id": "e939203f",
   "metadata": {},
   "outputs": [],
   "source": [
    "# Finds the same name among n people&#39;s names and returns them as a set.\n",
    "#Check if there’s the same name among the names of multiple people\n",
    "#If there are the same names, return them by putting them in the newly created result set.\n",
    "# The input to this problem is a list of names of n people\n",
    "# The result is a set containing the same names\n",
    "# When a list of person names, [\"Tom\",\"Jerry\", \"Mike\", \"Tom\"], is entered, the result is the set\n",
    "#{“Tom”} because the name Tom appears twice.\n",
    "\n",
    "def duplicatedNames(names):\n",
    "    dupmicatedNames= set()\n",
    "    for i in range (0, len(names)):\n",
    "        currentElement= names[i]\n",
    "        for j in range (0, len(names)):\n",
    "            if( (i!= j) & (names[j] == names[i])):\n",
    "                dupmicatedNames.add(names[j])\n",
    "    print(dupmicatedNames)\n",
    "    \n",
    "names=[\"Tom\",\"Jerry\", \"Mike\", \"Tom\"]\n",
    "duplicatedNames(names)"
   ]
  },
  {
   "cell_type": "code",
   "execution_count": null,
   "id": "891edb64",
   "metadata": {},
   "outputs": [],
   "source": [
    "#Write an algorithm to find the product of consecutive integers from 1 to n.\n",
    "\n",
    "def facto (n):\n",
    "    factorial=1\n",
    "    # check if the number is negative, positive or zero\n",
    "    if n < 0:\n",
    "        print(\"Sorry, factorial does not exist for negative numbers\")\n",
    "    elif n == 0:\n",
    "        print(\"The factorial of 0 is 1\")\n",
    "    else:\n",
    "        for i in range(1,n + 1):\n",
    "            factorial = factorial*i\n",
    "    print(\"The factorial of\",n,\"is\",factorial)\n",
    "    \n",
    "facto(5)"
   ]
  },
  {
   "cell_type": "code",
   "execution_count": null,
   "id": "257726d6",
   "metadata": {},
   "outputs": [],
   "source": [
    "#Calculate the mean height \n",
    "def height(listHieghts):\n",
    "    calMean=0\n",
    "    for i in range (0, len(listHieghts)):\n",
    "        calMean= calMean+listHieghts[i]\n",
    "        calMean= calMean/ len(listHieghts)\n",
    "    print(calMean)\n",
    "\n",
    "A=[161.5, 165.9, 168.7,163.1, 170.8,167.2]\n",
    "height(A)\n"
   ]
  },
  {
   "cell_type": "code",
   "execution_count": null,
   "id": "8948f289",
   "metadata": {},
   "outputs": [],
   "source": [
    "def formedList(AB, maximum):\n",
    "    c= []\n",
    "    j=0\n",
    "    for i in range (2, len(AB)):\n",
    "        if (AB[i]< maximum):\n",
    "            c.insert(j, AB[i])\n",
    "            j=j+1\n",
    "    print(c)\n",
    "AB=[161.5, 165.9, 168.7,163.1, 170.8,167.2]\n",
    "formedList(AB,165)"
   ]
  },
  {
   "cell_type": "code",
   "execution_count": null,
   "id": "d91e8e08",
   "metadata": {},
   "outputs": [],
   "source": [
    "def formedListInterv(AB,a,b):\n",
    "    c=[]\n",
    "    j=0\n",
    "    for i in range (0, len(AB)):\n",
    "        if((AB[i]>a) & (AB[i]<b)):\n",
    "            c.insert(j,AB[i])\n",
    "            j=j+1\n",
    "    print(c)\n",
    "formedListInterv(AB, 160,170)\n",
    "            "
   ]
  },
  {
   "cell_type": "code",
   "execution_count": null,
   "id": "36bd410b",
   "metadata": {},
   "outputs": [],
   "source": [
    "def multipList(a, b):\n",
    "    c=[]\n",
    "    j=0\n",
    "    for i in range (0, len(a)):\n",
    "        c.insert(j, a[i]*b[i])\n",
    "        j=j+1\n",
    "    print(c)\n",
    "\n",
    "a=[2,4,6,8,10]\n",
    "b=[10,8,6,4,2]\n",
    "multipList(a,b)"
   ]
  },
  {
   "cell_type": "code",
   "execution_count": null,
   "id": "3481685c",
   "metadata": {},
   "outputs": [],
   "source": [
    "def larger (l,minimum):\n",
    "    c=[]\n",
    "    j=0\n",
    "    for i in range (0, len(l)):\n",
    "        if(l[i] > minimum):\n",
    "            c.insert(j,l[i])\n",
    "            j=j+1\n",
    "    print(c)\n",
    "l1= [145.2, 160.3, 155.2, 171.6, 165.34, 167.2, 161.1, 164.9]\n",
    "larger (l1,160)"
   ]
  },
  {
   "cell_type": "code",
   "execution_count": null,
   "id": "ffae24be",
   "metadata": {},
   "outputs": [],
   "source": [
    "def extractElements(l, letter):\n",
    "    c=[]\n",
    "    j=0\n",
    "    for i in range (0, len(l)):\n",
    "        if(l[i][0]== letter):\n",
    "            c.insert(j, l[i])\n",
    "            j=j+1\n",
    "    print(c)\n",
    "\n",
    "a= ['Sara', 'Jack', 'Rebecca', 'Jennifer', 'Paul', 'Andrew','John']\n",
    "extractElements(a, 'J')"
   ]
  },
  {
   "cell_type": "code",
   "execution_count": null,
   "id": "57cd36f7",
   "metadata": {},
   "outputs": [],
   "source": [
    "class Calculator:\n",
    "    \n",
    "    def __init__(self, att1,att2):\n",
    "        self.att1=att1\n",
    "        self.att2=att2\n",
    "    def sum(self):\n",
    "        return self.att1 + self.att2\n",
    "    def subStract (self):\n",
    "        return self.att1 - self.att2\n",
    "    def product (self):\n",
    "        return self.att1 * self.att1\n",
    "    def divide (self):\n",
    "        self.att1/ self.att2\n",
    "\n",
    "calc1= Calculator (5,3)\n",
    "print(calc1.sum())\n",
    "print(calc1.subStract())\n",
    "print(calc1.product())\n",
    "print(calc1.divide())"
   ]
  },
  {
   "cell_type": "code",
   "execution_count": 3,
   "id": "dadb960e",
   "metadata": {},
   "outputs": [],
   "source": [
    "class Aquarim :\n",
    "    def __init__(self):\n",
    "        print(\"An aquarim has opened! \\n\")\n",
    "        self.aquarium= set()\n",
    "    def enters (self, element):\n",
    "        if( element in self.aquarium):\n",
    "            print(\"We already have\", element)\n",
    "        else:\n",
    "            self.aquarium.add(element)\n",
    "            print(element, \"is a new member of our aquarium !\")\n",
    "    def leaves (self, element):\n",
    "        if(element in self.aquarium):\n",
    "            self.aquarium.remove(element)\n",
    "        else:\n",
    "            print(\"No such sea creature in the aquarium\")\n",
    "    def show_all (self):\n",
    "        print(self.aquarium)"
   ]
  },
  {
   "cell_type": "code",
   "execution_count": 4,
   "id": "5e6a8e35",
   "metadata": {},
   "outputs": [
    {
     "name": "stdout",
     "output_type": "stream",
     "text": [
      "An aquarim has opened! \n",
      "\n",
      "set()\n"
     ]
    }
   ],
   "source": [
    "my_aquarium= Aquarim()\n",
    "my_aquarium.show_all()"
   ]
  },
  {
   "cell_type": "code",
   "execution_count": 5,
   "id": "db989c56",
   "metadata": {},
   "outputs": [
    {
     "name": "stdout",
     "output_type": "stream",
     "text": [
      "Shark is a new member of our aquarium !\n"
     ]
    }
   ],
   "source": [
    "my_aquarium.enters('Shark')"
   ]
  },
  {
   "cell_type": "code",
   "execution_count": 6,
   "id": "2d722567",
   "metadata": {},
   "outputs": [
    {
     "name": "stdout",
     "output_type": "stream",
     "text": [
      "No such sea creature in the aquarium\n"
     ]
    }
   ],
   "source": [
    "my_aquarium.leaves('Killer Whale')"
   ]
  },
  {
   "cell_type": "code",
   "execution_count": 7,
   "id": "5ea34dec",
   "metadata": {},
   "outputs": [
    {
     "name": "stdout",
     "output_type": "stream",
     "text": [
      "Killer Whale is a new member of our aquarium !\n"
     ]
    }
   ],
   "source": [
    "my_aquarium.enters('Killer Whale')"
   ]
  },
  {
   "cell_type": "code",
   "execution_count": 8,
   "id": "1c51f985",
   "metadata": {},
   "outputs": [
    {
     "name": "stdout",
     "output_type": "stream",
     "text": [
      "{'Shark', 'Killer Whale'}\n"
     ]
    }
   ],
   "source": [
    "my_aquarium.show_all()"
   ]
  },
  {
   "cell_type": "code",
   "execution_count": 9,
   "id": "991e6b8d",
   "metadata": {},
   "outputs": [
    {
     "name": "stdout",
     "output_type": "stream",
     "text": [
      "We already have Killer Whale\n"
     ]
    }
   ],
   "source": [
    "my_aquarium.enters('Killer Whale')"
   ]
  },
  {
   "cell_type": "code",
   "execution_count": 10,
   "id": "d50898bb",
   "metadata": {},
   "outputs": [],
   "source": [
    "my_aquarium.leaves('Killer Whale')"
   ]
  },
  {
   "cell_type": "code",
   "execution_count": 11,
   "id": "7b87975a",
   "metadata": {},
   "outputs": [
    {
     "name": "stdout",
     "output_type": "stream",
     "text": [
      "{'Shark'}\n"
     ]
    }
   ],
   "source": [
    "my_aquarium.show_all()"
   ]
  }
 ],
 "metadata": {
  "kernelspec": {
   "display_name": "Python 3 (ipykernel)",
   "language": "python",
   "name": "python3"
  },
  "language_info": {
   "codemirror_mode": {
    "name": "ipython",
    "version": 3
   },
   "file_extension": ".py",
   "mimetype": "text/x-python",
   "name": "python",
   "nbconvert_exporter": "python",
   "pygments_lexer": "ipython3",
   "version": "3.9.7"
  }
 },
 "nbformat": 4,
 "nbformat_minor": 5
}
